{
 "cells": [
  {
   "cell_type": "markdown",
   "metadata": {},
   "source": [
    "# 1. The basics\n",
    "\n",
    "You should start with the basics if you've never programmed before or if you aren't familiar with Python. While this doesn't cover the full range of topics, it will give you enough to accomplish the task ahead. For those of you who are already Python masters, skip ahead to step 2.<br>\n",
    "\n",
    "### 1.1 Python Data Types\n",
    "There are two core components of working on computers: data and code. Within any given coding language, there are very specific ways to represent that data. \n",
    "\n",
    "<p>Python has several basic types:</p>\n",
    "    <ul>\n",
    "        <li><b>int:</b> a number without a decimal place</li>\n",
    "        <li><b>float:</b> a floating-point number, which means it is a number that has a decimal place</li>\n",
    "        <li><b>str:</b> a data type to represent text -- single or double quotes can be used to build a string</li>\n",
    "        <li><b>bool:</b> a type to represent logical values -- can only be True or False (the capitalization is important!)</li>\n",
    "   </ul>\n",
    "\n",
    "<p>Once we define data, we want to provide some way to reference that data. We create references to data through _variables_. A variable in Python is best thought of as a way to label specific pieces of data or data objects. Another way to think about variables is as a bucket or as a placeholder for a piece of data.</p>\n",
    "\n",
    "### 1.2 Basic Operators\n",
    "Here are some commonly used mathematical operators:\n",
    "\n",
    "<img style=\"float: left; width: 400px;\" src=\"images/arithmetic_operators.png\">"
   ]
  },
  {
   "cell_type": "markdown",
   "metadata": {},
   "source": [
    "#### Mini-exercise: Basic Operators<img style=\"float: left; width: 15px;\" src=images/Design_Logo.png> "
   ]
  },
  {
   "cell_type": "code",
   "execution_count": 1,
   "metadata": {},
   "outputs": [
    {
     "name": "stdout",
     "output_type": "stream",
     "text": [
      "10\n"
     ]
    }
   ],
   "source": [
    "# Let's create two variables\n",
    "a = 3\n",
    "b = 7\n",
    "\n",
    "# We set result equal to the sum of a and b\n",
    "result = a + b\n",
    "\n",
    "# Use the print() function to display result\n",
    "print(result)"
   ]
  },
  {
   "cell_type": "markdown",
   "metadata": {},
   "source": [
    "Here are some commonly used comparison operators:\n",
    "\n",
    "<img style=\"float: left; width: 400px;\" src=\"images/comparison_operators.png\">"
   ]
  },
  {
   "cell_type": "code",
   "execution_count": 2,
   "metadata": {},
   "outputs": [
    {
     "name": "stdout",
     "output_type": "stream",
     "text": [
      "False\n"
     ]
    }
   ],
   "source": [
    "# Here we compare whether a is equal to b and print the output\n",
    "print(a == b)"
   ]
  },
  {
   "cell_type": "code",
   "execution_count": 3,
   "metadata": {},
   "outputs": [
    {
     "name": "stdout",
     "output_type": "stream",
     "text": [
      "2187\n"
     ]
    }
   ],
   "source": [
    "# Set power equal to the base b raised to the a power\n",
    "## CODE HERE ##\n",
    "power = a**b\n",
    "\n",
    "# Use the print() function to display power\n",
    "## CODE HERE ##\n",
    "print(power)"
   ]
  },
  {
   "cell_type": "code",
   "execution_count": 4,
   "metadata": {},
   "outputs": [
    {
     "name": "stdout",
     "output_type": "stream",
     "text": [
      "False\n",
      "a = 3\n",
      "b = 7\n"
     ]
    }
   ],
   "source": [
    "# Compare whether a is greater than b and print the output\n",
    "## CODE HERE ##\n",
    "print(a > b)\n",
    "print(\"a = \" + str(a))\n",
    "print(\"b = \" + str(b))"
   ]
  },
  {
   "cell_type": "markdown",
   "metadata": {},
   "source": [
    "### 1.3 Conditionals"
   ]
  },
  {
   "cell_type": "markdown",
   "metadata": {},
   "source": [
    "Comparators are often used to create conditionals. Conditionals are useful for creating forks in our logic -- if something is true, do one thing, if something else is true, then do a different thing."
   ]
  },
  {
   "cell_type": "markdown",
   "metadata": {},
   "source": [
    "#### Mini-exercise: Conditionals<img style=\"float: left; width: 15px;\" src=\"images/Design_Logo.png\"> "
   ]
  },
  {
   "cell_type": "code",
   "execution_count": 5,
   "metadata": {},
   "outputs": [
    {
     "name": "stdout",
     "output_type": "stream",
     "text": [
      "its odd! 3\n"
     ]
    }
   ],
   "source": [
    "# If else statement to check if a is an even or odd number using modulus\n",
    "if a % 2 == 0:\n",
    "    print(\"its even!\", a)\n",
    "else:\n",
    "    print(\"its odd!\", a)"
   ]
  },
  {
   "cell_type": "code",
   "execution_count": 6,
   "metadata": {},
   "outputs": [
    {
     "name": "stdout",
     "output_type": "stream",
     "text": [
      "it's odd!: 7\n"
     ]
    }
   ],
   "source": [
    "# Use the statement above to check if b is even or odd\n",
    "## CODE HERE ##\n",
    "if b % 2 == 0:\n",
    "    print(\"it's even!:\", b)\n",
    "else:\n",
    "    print(\"it's odd!:\",b)\n",
    "# If else statement to check if b is an even or odd number using modulus"
   ]
  },
  {
   "cell_type": "markdown",
   "metadata": {},
   "source": [
    "### 1.5 Functions\n",
    "A function encapsulates a known transformation of inputs to outputs. In general, it is a block of organized, reusable code that is used to perform a single, related action. Functions provide better modularity for your application and a high degree of code reusability. Just like in math, we use function to relate inputs to outputs, we do the same thing with functions in programming. Some functions are simple, some functions are vastly complex, but often complex functions are built by combining multiple simpler functions.\n",
    "\n",
    "As you already know, Python gives you many built-in functions like print(), type(), etc. But you can also create your own functions!\n",
    "\n",
    "Here are simple rules to \n",
    "define a function in Python:\n",
    "<ul>\n",
    "    <li>Function blocks begin with the keyword `def` followed by the function name and parentheses.</li>\n",
    "    <li>Any input parameters or arguments should be placed within these parentheses. You can also define parameters inside these parentheses.</li>\n",
    "    <li>The code block within every function starts with a colon (:) and is indented.</li>\n",
    "    <li>The statement return [expression] exits a function, optionally passing back an expression to the caller. A return statement with no arguments is the same as `return None`.</li>\n",
    "</ul>\n"
   ]
  },
  {
   "cell_type": "code",
   "execution_count": 7,
   "metadata": {},
   "outputs": [],
   "source": [
    "# We can encapsulate our check for even-ness into a function\n",
    "def even_or_odd(test_number):\n",
    "    \"\"\"\n",
    "    Checks if the test_number is even or odd\n",
    "    \n",
    "    :param test_number: an integer\n",
    "    :return: None\n",
    "    \"\"\"\n",
    "    \n",
    "    if test_number % 2 == 0:\n",
    "        print(\"It's even!\", test_number)\n",
    "    else:\n",
    "        print(\"It's odd!\", test_number)\n",
    "    return test_number"
   ]
  },
  {
   "cell_type": "code",
   "execution_count": 8,
   "metadata": {},
   "outputs": [
    {
     "name": "stdout",
     "output_type": "stream",
     "text": [
      "It's odd! 101\n"
     ]
    },
    {
     "data": {
      "text/plain": [
       "101"
      ]
     },
     "execution_count": 8,
     "metadata": {},
     "output_type": "execute_result"
    }
   ],
   "source": [
    "a = 101\n",
    "even_or_odd(a)"
   ]
  },
  {
   "cell_type": "code",
   "execution_count": 9,
   "metadata": {},
   "outputs": [],
   "source": [
    "# Exercise: Write a function that checks if a one number is \n",
    "# exactly divisible by another number\n",
    "## CODE HERE ##\n",
    "def is_a_factor(a,b):\n",
    "    return a % b == 0"
   ]
  },
  {
   "cell_type": "code",
   "execution_count": 10,
   "metadata": {},
   "outputs": [
    {
     "data": {
      "text/plain": [
       "True"
      ]
     },
     "execution_count": 10,
     "metadata": {},
     "output_type": "execute_result"
    }
   ],
   "source": [
    "is_a_factor(100, 5)"
   ]
  },
  {
   "cell_type": "code",
   "execution_count": 11,
   "metadata": {},
   "outputs": [
    {
     "data": {
      "text/plain": [
       "False"
      ]
     },
     "execution_count": 11,
     "metadata": {},
     "output_type": "execute_result"
    }
   ],
   "source": [
    "is_a_factor(23, 16)"
   ]
  },
  {
   "cell_type": "markdown",
   "metadata": {},
   "source": [
    "### 1.4 Iterators"
   ]
  },
  {
   "cell_type": "markdown",
   "metadata": {},
   "source": [
    "\n",
    "#### Mini-exercise: Iterators<img style=\"float: left; width: 15px;\" src=images/Design_Logo.png> "
   ]
  },
  {
   "cell_type": "markdown",
   "metadata": {},
   "source": [
    "If we can do something once, then why not do it again? Iteration allows us to apply the exact same logic to multiple items in a collection of data. If we have a list of data values, we can subsequently take some action _for_ each of the _items_ in the collection. Herein lies the key word: _for_ item in _collection of items_ do _something_"
   ]
  },
  {
   "cell_type": "code",
   "execution_count": 12,
   "metadata": {},
   "outputs": [
    {
     "name": "stdout",
     "output_type": "stream",
     "text": [
      "10\n",
      "20\n",
      "30\n",
      "40\n",
      "50\n",
      "60\n"
     ]
    }
   ],
   "source": [
    "# We create a list (i.e., an array) of integers and iterate through to multiply each number by 10\n",
    "a_list = [1, 2, 3, 4, 5, 6]\n",
    "for number in a_list:\n",
    "    print(number * 10)"
   ]
  },
  {
   "cell_type": "code",
   "execution_count": 13,
   "metadata": {},
   "outputs": [
    {
     "name": "stdout",
     "output_type": "stream",
     "text": [
      "Pixiedust database opened successfully\n"
     ]
    },
    {
     "data": {
      "text/html": [
       "\n",
       "        <div style=\"margin:10px\">\n",
       "            <a href=\"https://github.com/ibm-watson-data-lab/pixiedust\" target=\"_new\">\n",
       "                <img src=\"https://github.com/ibm-watson-data-lab/pixiedust/raw/master/docs/_static/pd_icon32.png\" style=\"float:left;margin-right:10px\"/>\n",
       "            </a>\n",
       "            <span>Pixiedust version 1.1.11</span>\n",
       "        </div>\n",
       "        "
      ],
      "text/plain": [
       "<IPython.core.display.HTML object>"
      ]
     },
     "metadata": {},
     "output_type": "display_data"
    }
   ],
   "source": [
    "import pixiedust"
   ]
  },
  {
   "cell_type": "code",
   "execution_count": 14,
   "metadata": {
    "pixiedust": {
     "displayParams": {}
    }
   },
   "outputs": [
    {
     "name": "stdout",
     "output_type": "stream",
     "text": [
      "It's odd! 1\n",
      "1\n",
      "It's even! 2\n",
      "2\n",
      "It's odd! 3\n",
      "3\n",
      "It's even! 4\n",
      "4\n",
      "It's odd! 5\n",
      "5\n",
      "It's even! 6\n",
      "6\n"
     ]
    }
   ],
   "source": [
    "# %%pixie_debugger\n",
    "# Let's combine conditional and iterators. \n",
    "# Write code that allows you to print whether each number \n",
    "# in a_list is or or even.\n",
    "## CODE HERE ##\n",
    "for number in a_list:\n",
    "    print(even_or_odd(number))"
   ]
  },
  {
   "cell_type": "code",
   "execution_count": 15,
   "metadata": {},
   "outputs": [
    {
     "name": "stdout",
     "output_type": "stream",
     "text": [
      "fizzbuzz! 0\n",
      "fizz! 3\n",
      "buzz! 5\n",
      "fizz! 6\n",
      "fizz! 9\n",
      "buzz! 10\n",
      "fizz! 12\n",
      "fizzbuzz! 15\n",
      "fizz! 18\n",
      "buzz! 20\n",
      "fizz! 21\n",
      "fizz! 24\n",
      "buzz! 25\n",
      "fizz! 27\n",
      "fizzbuzz! 30\n",
      "fizz! 33\n",
      "buzz! 35\n",
      "fizz! 36\n",
      "fizz! 39\n",
      "buzz! 40\n",
      "fizz! 42\n",
      "fizzbuzz! 45\n",
      "fizz! 48\n",
      "None\n"
     ]
    }
   ],
   "source": [
    "# FIZZ BUZZ! This is a very classic computer science question, often used in coding interviews\n",
    "# For each number between 0 and 50 print the following\n",
    "# if a number is divisible by 3, print fizz\n",
    "# if a number is divisib le by 5, print buzz\n",
    "# if both, print fizzbuzz!\n",
    "## CODE HERE ##\n",
    "def fizz_buzz(n):\n",
    "    for int in range(0,n):\n",
    "        if int % 3 == 0 and int % 5 == 0:\n",
    "            print(\"fizzbuzz!\", int)\n",
    "        elif int % 3 == 0:\n",
    "            print(\"fizz!\", int)\n",
    "        elif int % 5 == 0:\n",
    "            print(\"buzz!\", int)\n",
    "print(fizz_buzz(50))"
   ]
  },
  {
   "cell_type": "markdown",
   "metadata": {},
   "source": [
    "#### Mini-exercise: Functions<img style=\"float: left; width: 15px;\" src=\"images/Design_Logo.png\"> "
   ]
  },
  {
   "cell_type": "markdown",
   "metadata": {},
   "source": [
    "Let's cycle back to our case project and write a function that helps us. The goal of the following mini-exercise is to create a function that calculates the gross promotional sale volume. This is calculated using a simple formula as shown below:\n",
    "\n",
    "$G = B*(1+UR)$\n",
    "\n",
    "Where:\n",
    "<ul>\n",
    "    <li>$G$ = Gross sales volume including additional uplift from promotions</li>\n",
    "    <li>$B$ = Baseline sales volume without promotions</li>\n",
    "    <li>$UR$ = Uplift rate from promotions defined as %</li>\n",
    "</ul>\n",
    "\n",
    "We want to be able to specify the baseline sales volume and uplift rate as inputs and the function should return a gross sales volume."
   ]
  },
  {
   "cell_type": "code",
   "execution_count": 16,
   "metadata": {},
   "outputs": [],
   "source": [
    "def calculate_gross_sales_volume(baseline_volume, uplift_rate):\n",
    "    \"\"\"\n",
    "    Calculates the gross sales volume which includes the baseline sales volume \n",
    "    and the additional promotional uplift.\n",
    "    \n",
    "    Args:\n",
    "        :param basline_volume: baseline sales volume\n",
    "        :param uplift_rate: uplift rate of each promotion\n",
    "    Returns:\n",
    "        :return gross_sales_volume: total sales volume including promotional uplift\n",
    "    \"\"\"\n",
    "\n",
    "    # Formula\n",
    "    gross_sales_volume = baseline_volume*(1 + uplift_rate)\n",
    "    \n",
    "    # A return statement is needed if you want the function to spit back the output. \n",
    "    # It also indicates the end of the function\n",
    "    return gross_sales_volume"
   ]
  },
  {
   "cell_type": "code",
   "execution_count": 17,
   "metadata": {},
   "outputs": [],
   "source": [
    "# See what this function does\n",
    "calculate_gross_sales_volume?"
   ]
  },
  {
   "cell_type": "code",
   "execution_count": 18,
   "metadata": {},
   "outputs": [
    {
     "name": "stdout",
     "output_type": "stream",
     "text": [
      "62000.0\n"
     ]
    }
   ],
   "source": [
    "# Defining the function only does so much. We need to actually \"call\" the function to see it in action.\n",
    "# First we set some variables to be used as parameters in the function\n",
    "baseline_volume = 20000\n",
    "uplift_rate = 2.1\n",
    "\n",
    "# Next we call the function with the variables set above as parameters and assign \n",
    "# final_investment_value to whatever value the function returns\n",
    "gross_sales_volume = calculate_gross_sales_volume(baseline_volume, uplift_rate)\n",
    "\n",
    "# Print final_investment_value to show output\n",
    "print(gross_sales_volume)"
   ]
  },
  {
   "cell_type": "markdown",
   "metadata": {},
   "source": [
    "#### Project Challenge: Create your own function<img style=\"float: left; width: 15px;\" src=\"images/brain_logo.png\">"
   ]
  },
  {
   "cell_type": "code",
   "execution_count": 23,
   "metadata": {},
   "outputs": [],
   "source": [
    "# Create a new function calculate_uplift_sales_volume which uses baseline sales volume and uplift rate as parameters\n",
    "# to calculate the incremental uplift sales volume only.\n",
    "## CODE HERE ##\n",
    "def calculate_uplift_sales_volume(baseline,uplift):\n",
    "    return baseline*uplift\n",
    "    "
   ]
  },
  {
   "cell_type": "code",
   "execution_count": 20,
   "metadata": {},
   "outputs": [
    {
     "name": "stdout",
     "output_type": "stream",
     "text": [
      "42000.0\n"
     ]
    }
   ],
   "source": [
    "# Set 'uplift_sales_volume' equal to the output of the calculate_uplift_sales_volume function,\n",
    "# using the same baseline_volume = 20000 and uplift_rate = 2.1 variables as parameters. \n",
    "# You should get 42,000\n",
    "## CODE HERE ##\n",
    "\n",
    "uplift_sales_volume = calculate_uplift_sales_volume(20000,2.1)\n",
    "# Print to check\n",
    "print(uplift_sales_volume)"
   ]
  },
  {
   "cell_type": "markdown",
   "metadata": {},
   "source": [
    "Congrats! You just wrote your very own function!\n",
    "\n",
    "### Find out more\n",
    "\n",
    "These are only some of the basic Python concepts that will enable you to accomplish some amazing things. At the end of this tutorial, we will point you to other resources to continue on your journey. For now, let's start on promotions!"
   ]
  },
  {
   "cell_type": "markdown",
   "metadata": {},
   "source": [
    "<div class=\"alert alert-block alert-warning\">\n",
    "**CONFIDENTIALITY**<br>\n",
    "*Our clients’ industries are extremely competitive, and the maintenance of confidentiality with respect to our clients’ plans and data is critical. Oliver Wyman rigorously applies internal confidentiality practices to protect the confidentiality of all client information.<br><br>\n",
    "Similarly, our industry is very competitive. We view our approaches and insights as proprietary and therefore look to our clients to protect our interests in our proposals, presentations, methodologies and analytical techniques. Under no circumstances should this material be shared with any third party without the prior written consent of Oliver Wyman.<br><br>\n",
    "© Oliver Wyman*\n",
    "</div>"
   ]
  }
 ],
 "metadata": {
  "kernelspec": {
   "display_name": "Python 3",
   "language": "python",
   "name": "python3"
  },
  "language_info": {
   "codemirror_mode": {
    "name": "ipython",
    "version": 3
   },
   "file_extension": ".py",
   "mimetype": "text/x-python",
   "name": "python",
   "nbconvert_exporter": "python",
   "pygments_lexer": "ipython3",
   "version": "3.6.5"
  }
 },
 "nbformat": 4,
 "nbformat_minor": 2
}
